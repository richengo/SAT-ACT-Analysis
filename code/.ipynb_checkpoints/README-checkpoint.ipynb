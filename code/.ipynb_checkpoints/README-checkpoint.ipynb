{
 "cells": [
  {
   "cell_type": "markdown",
   "metadata": {},
   "source": [
    "<img src=\"http://imgur.com/1ZcRyrc.png\" style=\"float: left; margin: 20px; height: 55px\">\n",
    "\n",
    "# Project 1: SAT & ACT Analysis\n",
    "\n",
    "_______________"
   ]
  },
  {
   "cell_type": "markdown",
   "metadata": {},
   "source": [
    "### Riche Ngo, SG-DSI-18\n",
    "\n",
    "## Problem Statement"
   ]
  },
  {
   "cell_type": "markdown",
   "metadata": {},
   "source": [
    "As part of the College Board team, we want to gain as much recognition as possible on the national (U.S. nation) and global levels by increasing the SAT participation rates across the U.S. states. The other alternative test for college admission, ACT, has seen steady increase in their participation rates and even surpassed the SAT in 2012 for the first time in total test takers. Using the 2017/2018 SAT & ACT data, we want to figure out where can we best spend money as the College Board team to improve the SAT participation rates in the U.S."
   ]
  },
  {
   "cell_type": "markdown",
   "metadata": {},
   "source": [
    "## Executive Summary\n",
    "\n",
    "This project explores the 2017/2018 SAT & ACT data which contains the state-by-state participation rates and mean scores for students who took the SAT and ACT tests in the U.S. for the years 2017 and 2018.\n",
    "\n",
    "Exploratory data analysis revealed a seemingly strong positive correlation between the participation rates in 2017 and 2018 for both the SAT and ACT. However, due to students possibly taking both the SAT and ACT to increase the chances of college admissions, there may be self-selection bias which would skew the data used for analysis. Therefore, statistical inference which rely on the CLT or normality in the distribution of the variables in the dataset would not be reliable.\n",
    "\n",
    "Several case studies have shown that a major influence in the participation rates for the SAT/ACT is whether the state has mandatory requirements for students to take the test. However, the caveat is if the state switches from one test to the other within a short notice period, educators and school systems may not be able to adjust immediately, resulting in delayed effects to the test participation rates. Based on the insights obtained through the data analysis, recommendations for the College Board to increase SAT's participation rates are made and attention is brought to invest efforts in the state of Oregon.\n",
    "\n",
    "_______"
   ]
  },
  {
   "cell_type": "markdown",
   "metadata": {},
   "source": [
    "## Data Sources\n",
    "\n",
    "For this project, these are the datasets:\n",
    "* [2017 SAT Dataset](https://blog.collegevine.com/here-are-the-average-sat-scores-by-state/)\n",
    "* [2017 ACT Dataset](https://www.act.org/content/dam/act/unsecured/documents/cccr2017/ACT_2017-Average_Scores_by_State.pdf)\n",
    "* [2018 SAT Dataset](https://reports.collegeboard.org/sat-suite-program-results)\n",
    "* [2018 ACT Dataset](http://www.act.org/content/dam/act/unsecured/documents/cccr2018/Average-Scores-by-State.pdf)"
   ]
  },
  {
   "cell_type": "markdown",
   "metadata": {},
   "source": [
    "## Data Dictionary\n",
    "\n",
    "|Feature|Type|Dataset|Description|\n",
    "|---|---|---|---|\n",
    "|**state**|*object*|2018 SAT & ACT|The state where the data was collected from.| \n",
    "|**sat_participation_2017**|*float*|2017 SAT|The participation rate of a state for the SAT test in Year 2017 (to two decimal places, i.e. 0.53 means 53%).|\n",
    "|**sat_erw_2017**|*integer*|2017 SAT|The average SAT test score of a state for subject \"Evidence-Based Reading and Writing\" in Year 2017 (min 200, max 800).|\n",
    "|**sat_math_2017**|*integer*|2017 SAT|The average SAT test score of a state for subject \"Math\" for a state in Year 2017 (min 200, max 800).|\n",
    "|**sat_total_2017**|*integer*|2017 SAT|The total average SAT test score for a state for both subjects \"Evidence-Based Reading and Writing\" & \"Math\" in Year 2017 (min 400, max 1600).|\n",
    "|**act_participation_2017**|*float*|2017 ACT|The participation rate of a state for the ACT test in Year 2017 (to two decimal places, i.e. 0.53 means 53%).|\n",
    "|**act_english_2017**|*float*|2017 ACT|The average ACT test score of a state for subject \"English\" in Year 2017 (to one decimal place, min 1.0, max 36.0).|\n",
    "|**act_math_2017**|*float*|2017 ACT|The average ACT test score of a state for subject \"Math\" in Year 2017 (to one decimal place, min 1.0, max 36.0).|\n",
    "|**act_reading_2017**|*float*|2017 ACT|The average ACT test score of a state for subject \"Reading\" in Year 2017 (to one decimal place, min 1.0, max 36.0).|\n",
    "|**act_science_2017**|*float*|2017 ACT|The average ACT test score of a state for subject \"Science\" in Year 2017 (to one decimal place, min 1.0, max 36.0).|\n",
    "|**act_composite_2017**|*float*|2017 ACT|The mean of the average ACT test scores for all four subjects \"English\", \"Math\", \"Reading\", & \"Science\" within a state in Year 2017 (to one decimal place, min 1.0, max 36.0).|\n",
    "|**sat_participation_2018**|*float*|2018 SAT|The participation rate of a state for the SAT test in Year 2018 (to two decimal places, i.e. 0.53 means 53%).|\n",
    "|**sat_erw_2018**|*integer*|2018 SAT|The average SAT test score of a state for subject \"Evidence-Based Reading and Writing\" in Year 2018 (min 200, max 800).|\n",
    "|**sat_math_2018**|*integer*|2018 SAT|The average SAT test score of a state for subject \"Math\" for a state in Year 2018 (min 200, max 800).|\n",
    "|**sat_total_2018**|*integer*|2018 SAT|The total average SAT test score for a state for both subjects \"Evidence-Based Reading and Writing\" & \"Math\" in Year 2018 (min 400, max 1600).|\n",
    "|**act_participation_2018**|*float*|2018 ACT|The participation rate of a state for the ACT test in Year 2018 (to two decimal places, i.e. 0.53 means 53%).|\n",
    "|**act_english_2018**|*float*|2018 ACT|The average ACT test score of a state for subject \"English\" in Year 2018 (to one decimal place, min 1.0, max 36.0).|\n",
    "|**act_math_2018**|*float*|2018 ACT|The average ACT test score of a state for subject \"Math\" in Year 2018 (to one decimal place, min 1.0, max 36.0).|\n",
    "|**act_reading_2018**|*float*|2018 ACT|The average ACT test score of a state for subject \"Reading\" in Year 2018 (to one decimal place, min 1.0, max 36.0).|\n",
    "|**act_science_2018**|*float*|2018 ACT|The average ACT test score of a state for subject \"Science\" in Year 2018 (to one decimal place, min 1.0, max 36.0).|\n",
    "|**act_composite_2018**|*float*|2018 ACT|The mean of the average ACT test scores for all four subjects \"English\", \"Math\", \"Reading\", & \"Science\" within a state in Year 2018 (to one decimal place, min 1.0, max 36.0).|\n",
    "\n",
    "_________________"
   ]
  },
  {
   "cell_type": "markdown",
   "metadata": {},
   "source": [
    "## Conclusions and Recommendations\n",
    "\n",
    "Based on the exploration of the data, we have gained much insights on how to further expand the SAT footprint in the U.S. by increasing the SAT participation rates across the states. From year 2017 to 2018, we have seen substantial growth in SAT's participation rates with the help of new contracts between the College Board and Colorado and Illinois. It has taught us that a major factor in increasing SAT's participation rates is having state policies mandating the participation of the SAT. However, there is a caveat in this approach. If the state is switching from ACT testing to the mandatory SAT testing with little to no notice period for educators, the school systems will not be able to cope with the transition. This will result in delays or distress in students. There will not be an immediate increase in SAT participation rates as seen in the case of West Virginia as well.\n",
    "\n",
    "We have also found that statistical inference which rely on the CLT or normality in the distribution of the variables in our data would not be reliable. Through our observations and research, there are students who would take both the SAT and ACT because they want to increase their chances of college admissions, even in states where taking just one of the tests is required. This may result in self-selection bias and skew the data which we took as samples for analysis. Together with the fact that state policies impose a significant impact on the participation rates, we are unable to draw conclusions from statistical inference.\n",
    "\n",
    "In spite of this, we did manage to observe a seemingly high positive correlation between the participation rate in 2017 and 2018 for the SAT. This gives us some confidence that if we were to secure a high participation rate the year-to-year participation rate will not have drastic changes unless there is external intervention. However, with additional data such as the state-by-state average household income, number of students participating for each institution, we should be able to learn much more and make a more well-informed recommendation.\n",
    "\n",
    "Based on our preliminary analysis, I would recommend looking into a state which currently does not have requirements on which test to take, so as to minimize the potential delays that come with transition from one test to the other. We also want to pick out a state with low SAT and ACT participation rates to maximize the impact we have and increasing the value of the resources to commit.\n",
    "\n",
    "I recommend the College Board team to invest in efforts to improve the SAT participation rate for the state of **Oregon**.\n",
    "\n",
    "Oregon is one of the two states with low (<50%) participation rates for both SAT and ACT in both years. Even though there is currently no requirement on taking either of the tests, we can see that students in Oregon already favours taking the SAT by a slight margin. In comparison, the state of Alaska has seen a high 65% ACT participation in 2017 before dropping to 33% in 2018. We do not know the reasons behind it but could not risk our chances of success. We could capitalize on the preference for the SAT in Oregon and lobby our efforts to increase the SAT participation rate in the state. Furthermore, we observed that Oregon is surrounded by other states, namely Washington, California and Idaho, also with a preference for the SAT in both years. They could possibly create positive influence on our efforts to increase SAT's recognition. Washington and California are also states which currently have no requirement on taking either of the tests. These two states could be potential states to consider investing it if Oregon is succesful.\n",
    "\n",
    "**Recommended strategies:**  \n",
    "1. New contract with Oregon to mandate SAT testing in the state and also make it free for high school juniors.\n",
    "2. Provide SAT School Day for schools in Oregon to make the test easily accessible for students.\n",
    "3. Notify students of free online resources, such as Khan Academy, which help students to prepare for the test.\n",
    "4. Invest in marketing campaigns so that it will be more well-received and people more well-informed.\n",
    "5. Consider providing free meals before the actual test to incentivise students."
   ]
  }
 ],
 "metadata": {
  "kernelspec": {
   "display_name": "Python 3",
   "language": "python",
   "name": "python3"
  },
  "language_info": {
   "codemirror_mode": {
    "name": "ipython",
    "version": 3
   },
   "file_extension": ".py",
   "mimetype": "text/x-python",
   "name": "python",
   "nbconvert_exporter": "python",
   "pygments_lexer": "ipython3",
   "version": "3.8.3"
  }
 },
 "nbformat": 4,
 "nbformat_minor": 4
}
